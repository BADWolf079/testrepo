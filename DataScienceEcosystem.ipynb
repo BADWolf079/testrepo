{
 "cells": [
  {
   "cell_type": "markdown",
   "id": "c24e6661",
   "metadata": {},
   "source": [
    "# Data Science Tools and Ecosystem"
   ]
  },
  {
   "cell_type": "markdown",
   "id": "6c5948a9",
   "metadata": {},
   "source": [
    "In this notebook, Data Science Tools and Ecosystem are summarized."
   ]
  },
  {
   "cell_type": "markdown",
   "id": "4f69cf47",
   "metadata": {},
   "source": [
    "\n",
    "Some of the popular languages that Data Scientists use are:\n",
    "1. Python\n",
    "2. R\n",
    "3. SQL\n",
    "4. Java\n",
    "5. Julia\n"
   ]
  },
  {
   "cell_type": "markdown",
   "id": "ed8b7182",
   "metadata": {},
   "source": [
    "\n",
    "Some of the commonly used libraries used by Data Scientists include:\n",
    "1. Pandas\n",
    "2. NumPy\n",
    "3. Scikit-learn\n",
    "4. TensorFlow\n",
    "5. Matplotlib\n"
   ]
  },
  {
   "cell_type": "markdown",
   "id": "efe995c2",
   "metadata": {},
   "source": [
    "\n",
    "| Data Science Tools |\n",
    "|--------------------|\n",
    "| Jupyter Notebook  |\n",
    "| RStudio           |\n",
    "| Apache Zeppelin   |\n"
   ]
  },
  {
   "cell_type": "markdown",
   "id": "45279f27",
   "metadata": {},
   "source": [
    "### Below are a few examples of evaluating arithmetic expressions in Python."
   ]
  },
  {
   "cell_type": "code",
   "execution_count": null,
   "id": "6217a3cd",
   "metadata": {},
   "outputs": [],
   "source": [
    "\n",
    "# This is a simple arithmetic expression to multiply then add integers\n",
    "(3*4)+5\n"
   ]
  },
  {
   "cell_type": "code",
   "execution_count": null,
   "id": "4293b1e7",
   "metadata": {},
   "outputs": [],
   "source": [
    "\n",
    "# This will convert 200 minutes to hours by dividing by 60\n",
    "200 / 60\n"
   ]
  },
  {
   "cell_type": "markdown",
   "id": "ddaccb29",
   "metadata": {},
   "source": [
    "\n",
    "**Objectives:**  \n",
    "- List popular languages for Data Science  \n",
    "- Identify common Data Science libraries  \n",
    "- Explore open-source development environments for Data Science  \n",
    "- Perform simple arithmetic operations in Python  \n",
    "- Convert time units using Python code  \n"
   ]
  },
  {
   "cell_type": "markdown",
   "id": "da81504b",
   "metadata": {},
   "source": [
    "## Author\n",
    "Saud Almutairi"
   ]
  }
 ],
 "metadata": {},
 "nbformat": 4,
 "nbformat_minor": 5
}